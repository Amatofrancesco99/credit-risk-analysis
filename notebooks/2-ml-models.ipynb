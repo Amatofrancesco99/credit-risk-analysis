{
 "cells": [
  {
   "cell_type": "code",
   "execution_count": 78,
   "metadata": {},
   "outputs": [],
   "source": [
    "# Libraries\n",
    "import pandas as pd, numpy as np\n",
    "from utils import *\n",
    "from sklearn.linear_model import LogisticRegression\n",
    "from sklearn.svm import SVC\n",
    "from sklearn.ensemble import RandomForestClassifier\n",
    "from sklearn.tree import DecisionTreeClassifier\n",
    "from sklearn.model_selection import train_test_split"
   ]
  },
  {
   "attachments": {},
   "cell_type": "markdown",
   "metadata": {},
   "source": [
    "# Credit Risk Analysis - Machine Learning models <br>\n",
    "\n",
    "The objective of this analysis is to understand which are the factors that are more effecting the probability of having an high credit risk of a given company, using initially only the data of the explanatory variables of 2019 to predict the credit risk of 2020 (true values vs forecasts). <br>\n",
    "Then it can be added new explanatory variables 'delayed' e.g. leverage to 2018, 2017, etc. <br>\n",
    "After understood some general behavior (through the previous notebook), this specific notebook has the objective to build different models to predict the credit risk level (low/high) in an year for each company, and also compare each presented model (in order to both interpret them and see their accuracy).\n",
    "\n",
    "**Financial Data Science (UniPV) - Prof. Paolo Giudici** <br>\n",
    "*Computer Engineering (Data Science) - A.Y. 2022/23* <br>\n",
    "*Francesco Amato, 507767*"
   ]
  },
  {
   "attachments": {},
   "cell_type": "markdown",
   "metadata": {},
   "source": [
    "## Import the dataset & data manipulations"
   ]
  },
  {
   "cell_type": "code",
   "execution_count": 53,
   "metadata": {},
   "outputs": [
    {
     "data": {
      "text/html": [
       "<div>\n",
       "<style scoped>\n",
       "    .dataframe tbody tr th:only-of-type {\n",
       "        vertical-align: middle;\n",
       "    }\n",
       "\n",
       "    .dataframe tbody tr th {\n",
       "        vertical-align: top;\n",
       "    }\n",
       "\n",
       "    .dataframe thead th {\n",
       "        text-align: right;\n",
       "    }\n",
       "</style>\n",
       "<table border=\"1\" class=\"dataframe\">\n",
       "  <thead>\n",
       "    <tr style=\"text-align: right;\">\n",
       "      <th></th>\n",
       "      <th>Company name</th>\n",
       "      <th>Turnover.2020</th>\n",
       "      <th>Turnover.2019</th>\n",
       "      <th>Turnover.2018</th>\n",
       "      <th>Turnover.2017</th>\n",
       "      <th>Turnover.2016</th>\n",
       "      <th>Turnover.2015</th>\n",
       "      <th>EBIT.2020</th>\n",
       "      <th>EBIT.2019</th>\n",
       "      <th>EBIT.2018</th>\n",
       "      <th>...</th>\n",
       "      <th>TAsset.2018</th>\n",
       "      <th>TAsset.2017</th>\n",
       "      <th>TAsset.2016</th>\n",
       "      <th>TAsset.2015</th>\n",
       "      <th>MScore.2020.int</th>\n",
       "      <th>MScore.2019.int</th>\n",
       "      <th>MScore.2018.int</th>\n",
       "      <th>MScore.2017.int</th>\n",
       "      <th>MScore.2016.int</th>\n",
       "      <th>MScore.2015.int</th>\n",
       "    </tr>\n",
       "  </thead>\n",
       "  <tbody>\n",
       "    <tr>\n",
       "      <th>0</th>\n",
       "      <td>LENDLEASE S.R.L.</td>\n",
       "      <td>29458</td>\n",
       "      <td>16716</td>\n",
       "      <td>9612</td>\n",
       "      <td>8097</td>\n",
       "      <td>7941.0</td>\n",
       "      <td>5600.0</td>\n",
       "      <td>-1556.0</td>\n",
       "      <td>-4540.0</td>\n",
       "      <td>623.0</td>\n",
       "      <td>...</td>\n",
       "      <td>15455</td>\n",
       "      <td>15992</td>\n",
       "      <td>13597.0</td>\n",
       "      <td>11659.0</td>\n",
       "      <td>1</td>\n",
       "      <td>1</td>\n",
       "      <td>1</td>\n",
       "      <td>1</td>\n",
       "      <td>0</td>\n",
       "      <td>1</td>\n",
       "    </tr>\n",
       "    <tr>\n",
       "      <th>1</th>\n",
       "      <td>PRICEWATERHOUSECOOPERS BUSINESS SERVICES SRL (...</td>\n",
       "      <td>16731</td>\n",
       "      <td>16403</td>\n",
       "      <td>16843</td>\n",
       "      <td>12241</td>\n",
       "      <td>9252.0</td>\n",
       "      <td>9515.0</td>\n",
       "      <td>1838.0</td>\n",
       "      <td>841.0</td>\n",
       "      <td>2738.0</td>\n",
       "      <td>...</td>\n",
       "      <td>16468</td>\n",
       "      <td>10773</td>\n",
       "      <td>6697.0</td>\n",
       "      <td>8933.0</td>\n",
       "      <td>0</td>\n",
       "      <td>0</td>\n",
       "      <td>0</td>\n",
       "      <td>1</td>\n",
       "      <td>1</td>\n",
       "      <td>1</td>\n",
       "    </tr>\n",
       "    <tr>\n",
       "      <th>2</th>\n",
       "      <td>EVISO S.P.A.</td>\n",
       "      <td>48568</td>\n",
       "      <td>43039</td>\n",
       "      <td>34302</td>\n",
       "      <td>25791</td>\n",
       "      <td>19760.0</td>\n",
       "      <td>6941.0</td>\n",
       "      <td>1661.0</td>\n",
       "      <td>1464.0</td>\n",
       "      <td>976.0</td>\n",
       "      <td>...</td>\n",
       "      <td>7371</td>\n",
       "      <td>5432</td>\n",
       "      <td>4170.0</td>\n",
       "      <td>2862.0</td>\n",
       "      <td>0</td>\n",
       "      <td>0</td>\n",
       "      <td>0</td>\n",
       "      <td>0</td>\n",
       "      <td>0</td>\n",
       "      <td>0</td>\n",
       "    </tr>\n",
       "    <tr>\n",
       "      <th>3</th>\n",
       "      <td>CASA SERVICE MACHINE</td>\n",
       "      <td>47999</td>\n",
       "      <td>43484</td>\n",
       "      <td>43043</td>\n",
       "      <td>41682</td>\n",
       "      <td>51267.0</td>\n",
       "      <td>52584.0</td>\n",
       "      <td>416.0</td>\n",
       "      <td>255.0</td>\n",
       "      <td>-855.0</td>\n",
       "      <td>...</td>\n",
       "      <td>25729</td>\n",
       "      <td>21632</td>\n",
       "      <td>25403.0</td>\n",
       "      <td>24941.0</td>\n",
       "      <td>0</td>\n",
       "      <td>0</td>\n",
       "      <td>1</td>\n",
       "      <td>0</td>\n",
       "      <td>0</td>\n",
       "      <td>0</td>\n",
       "    </tr>\n",
       "    <tr>\n",
       "      <th>4</th>\n",
       "      <td>PANFERTIL SPA</td>\n",
       "      <td>45948</td>\n",
       "      <td>47336</td>\n",
       "      <td>45626</td>\n",
       "      <td>48222</td>\n",
       "      <td>57074.0</td>\n",
       "      <td>62263.0</td>\n",
       "      <td>44.0</td>\n",
       "      <td>713.0</td>\n",
       "      <td>-672.0</td>\n",
       "      <td>...</td>\n",
       "      <td>36205</td>\n",
       "      <td>38423</td>\n",
       "      <td>41847.0</td>\n",
       "      <td>41323.0</td>\n",
       "      <td>0</td>\n",
       "      <td>0</td>\n",
       "      <td>1</td>\n",
       "      <td>1</td>\n",
       "      <td>0</td>\n",
       "      <td>0</td>\n",
       "    </tr>\n",
       "    <tr>\n",
       "      <th>...</th>\n",
       "      <td>...</td>\n",
       "      <td>...</td>\n",
       "      <td>...</td>\n",
       "      <td>...</td>\n",
       "      <td>...</td>\n",
       "      <td>...</td>\n",
       "      <td>...</td>\n",
       "      <td>...</td>\n",
       "      <td>...</td>\n",
       "      <td>...</td>\n",
       "      <td>...</td>\n",
       "      <td>...</td>\n",
       "      <td>...</td>\n",
       "      <td>...</td>\n",
       "      <td>...</td>\n",
       "      <td>...</td>\n",
       "      <td>...</td>\n",
       "      <td>...</td>\n",
       "      <td>...</td>\n",
       "      <td>...</td>\n",
       "      <td>...</td>\n",
       "    </tr>\n",
       "    <tr>\n",
       "      <th>121003</th>\n",
       "      <td>ASTOR VILLAGE S.R.L.</td>\n",
       "      <td>3161</td>\n",
       "      <td>4635</td>\n",
       "      <td>4742</td>\n",
       "      <td>4499</td>\n",
       "      <td>4277.0</td>\n",
       "      <td>3650.0</td>\n",
       "      <td>985.0</td>\n",
       "      <td>1818.0</td>\n",
       "      <td>1790.0</td>\n",
       "      <td>...</td>\n",
       "      <td>14438</td>\n",
       "      <td>13054</td>\n",
       "      <td>12243.0</td>\n",
       "      <td>11695.0</td>\n",
       "      <td>0</td>\n",
       "      <td>0</td>\n",
       "      <td>0</td>\n",
       "      <td>0</td>\n",
       "      <td>0</td>\n",
       "      <td>0</td>\n",
       "    </tr>\n",
       "    <tr>\n",
       "      <th>121004</th>\n",
       "      <td>ODONE &amp; SLOA S.R.L.</td>\n",
       "      <td>3161</td>\n",
       "      <td>2562</td>\n",
       "      <td>2559</td>\n",
       "      <td>2334</td>\n",
       "      <td>3692.0</td>\n",
       "      <td>2537.0</td>\n",
       "      <td>60.0</td>\n",
       "      <td>101.0</td>\n",
       "      <td>27.0</td>\n",
       "      <td>...</td>\n",
       "      <td>2351</td>\n",
       "      <td>2521</td>\n",
       "      <td>2797.0</td>\n",
       "      <td>3152.0</td>\n",
       "      <td>0</td>\n",
       "      <td>1</td>\n",
       "      <td>1</td>\n",
       "      <td>1</td>\n",
       "      <td>1</td>\n",
       "      <td>1</td>\n",
       "    </tr>\n",
       "    <tr>\n",
       "      <th>121005</th>\n",
       "      <td>GARRIDO MURO SOCIEDAD LIMITADA</td>\n",
       "      <td>3161</td>\n",
       "      <td>3146</td>\n",
       "      <td>2989</td>\n",
       "      <td>3101</td>\n",
       "      <td>2746.0</td>\n",
       "      <td>3154.0</td>\n",
       "      <td>260.0</td>\n",
       "      <td>13.0</td>\n",
       "      <td>48.0</td>\n",
       "      <td>...</td>\n",
       "      <td>1692</td>\n",
       "      <td>1843</td>\n",
       "      <td>1773.0</td>\n",
       "      <td>1699.0</td>\n",
       "      <td>0</td>\n",
       "      <td>0</td>\n",
       "      <td>0</td>\n",
       "      <td>0</td>\n",
       "      <td>0</td>\n",
       "      <td>0</td>\n",
       "    </tr>\n",
       "    <tr>\n",
       "      <th>121006</th>\n",
       "      <td>CENTRO INGROSSO JOLLY S.R.L.</td>\n",
       "      <td>3161</td>\n",
       "      <td>2519</td>\n",
       "      <td>2290</td>\n",
       "      <td>2244</td>\n",
       "      <td>1761.0</td>\n",
       "      <td>1821.0</td>\n",
       "      <td>74.0</td>\n",
       "      <td>48.0</td>\n",
       "      <td>60.0</td>\n",
       "      <td>...</td>\n",
       "      <td>2604</td>\n",
       "      <td>2474</td>\n",
       "      <td>1546.0</td>\n",
       "      <td>1222.0</td>\n",
       "      <td>0</td>\n",
       "      <td>0</td>\n",
       "      <td>0</td>\n",
       "      <td>0</td>\n",
       "      <td>0</td>\n",
       "      <td>1</td>\n",
       "    </tr>\n",
       "    <tr>\n",
       "      <th>121007</th>\n",
       "      <td>SALONES COMATEL SL</td>\n",
       "      <td>3161</td>\n",
       "      <td>4514</td>\n",
       "      <td>4435</td>\n",
       "      <td>4231</td>\n",
       "      <td>3908.0</td>\n",
       "      <td>2051.0</td>\n",
       "      <td>194.0</td>\n",
       "      <td>733.0</td>\n",
       "      <td>830.0</td>\n",
       "      <td>...</td>\n",
       "      <td>4747</td>\n",
       "      <td>3993</td>\n",
       "      <td>3027.0</td>\n",
       "      <td>2333.0</td>\n",
       "      <td>0</td>\n",
       "      <td>0</td>\n",
       "      <td>0</td>\n",
       "      <td>0</td>\n",
       "      <td>0</td>\n",
       "      <td>0</td>\n",
       "    </tr>\n",
       "  </tbody>\n",
       "</table>\n",
       "<p>121008 rows × 54 columns</p>\n",
       "</div>"
      ],
      "text/plain": [
       "                                             Company name  Turnover.2020  \\\n",
       "0                                        LENDLEASE S.R.L.          29458   \n",
       "1       PRICEWATERHOUSECOOPERS BUSINESS SERVICES SRL (...          16731   \n",
       "2                                            EVISO S.P.A.          48568   \n",
       "3                                    CASA SERVICE MACHINE          47999   \n",
       "4                                           PANFERTIL SPA          45948   \n",
       "...                                                   ...            ...   \n",
       "121003                               ASTOR VILLAGE S.R.L.           3161   \n",
       "121004                                ODONE & SLOA S.R.L.           3161   \n",
       "121005                     GARRIDO MURO SOCIEDAD LIMITADA           3161   \n",
       "121006                       CENTRO INGROSSO JOLLY S.R.L.           3161   \n",
       "121007                                 SALONES COMATEL SL           3161   \n",
       "\n",
       "        Turnover.2019  Turnover.2018  Turnover.2017  Turnover.2016  \\\n",
       "0               16716           9612           8097         7941.0   \n",
       "1               16403          16843          12241         9252.0   \n",
       "2               43039          34302          25791        19760.0   \n",
       "3               43484          43043          41682        51267.0   \n",
       "4               47336          45626          48222        57074.0   \n",
       "...               ...            ...            ...            ...   \n",
       "121003           4635           4742           4499         4277.0   \n",
       "121004           2562           2559           2334         3692.0   \n",
       "121005           3146           2989           3101         2746.0   \n",
       "121006           2519           2290           2244         1761.0   \n",
       "121007           4514           4435           4231         3908.0   \n",
       "\n",
       "        Turnover.2015  EBIT.2020  EBIT.2019  EBIT.2018  ...  TAsset.2018  \\\n",
       "0              5600.0    -1556.0    -4540.0      623.0  ...        15455   \n",
       "1              9515.0     1838.0      841.0     2738.0  ...        16468   \n",
       "2              6941.0     1661.0     1464.0      976.0  ...         7371   \n",
       "3             52584.0      416.0      255.0     -855.0  ...        25729   \n",
       "4             62263.0       44.0      713.0     -672.0  ...        36205   \n",
       "...               ...        ...        ...        ...  ...          ...   \n",
       "121003         3650.0      985.0     1818.0     1790.0  ...        14438   \n",
       "121004         2537.0       60.0      101.0       27.0  ...         2351   \n",
       "121005         3154.0      260.0       13.0       48.0  ...         1692   \n",
       "121006         1821.0       74.0       48.0       60.0  ...         2604   \n",
       "121007         2051.0      194.0      733.0      830.0  ...         4747   \n",
       "\n",
       "        TAsset.2017  TAsset.2016  TAsset.2015  MScore.2020.int  \\\n",
       "0             15992      13597.0      11659.0                1   \n",
       "1             10773       6697.0       8933.0                0   \n",
       "2              5432       4170.0       2862.0                0   \n",
       "3             21632      25403.0      24941.0                0   \n",
       "4             38423      41847.0      41323.0                0   \n",
       "...             ...          ...          ...              ...   \n",
       "121003        13054      12243.0      11695.0                0   \n",
       "121004         2521       2797.0       3152.0                0   \n",
       "121005         1843       1773.0       1699.0                0   \n",
       "121006         2474       1546.0       1222.0                0   \n",
       "121007         3993       3027.0       2333.0                0   \n",
       "\n",
       "        MScore.2019.int  MScore.2018.int  MScore.2017.int  MScore.2016.int  \\\n",
       "0                     1                1                1                0   \n",
       "1                     0                0                1                1   \n",
       "2                     0                0                0                0   \n",
       "3                     0                1                0                0   \n",
       "4                     0                1                1                0   \n",
       "...                 ...              ...              ...              ...   \n",
       "121003                0                0                0                0   \n",
       "121004                1                1                1                1   \n",
       "121005                0                0                0                0   \n",
       "121006                0                0                0                0   \n",
       "121007                0                0                0                0   \n",
       "\n",
       "       MScore.2015.int  \n",
       "0                    1  \n",
       "1                    1  \n",
       "2                    0  \n",
       "3                    0  \n",
       "4                    0  \n",
       "...                ...  \n",
       "121003               0  \n",
       "121004               1  \n",
       "121005               0  \n",
       "121006               1  \n",
       "121007               0  \n",
       "\n",
       "[121008 rows x 54 columns]"
      ]
     },
     "execution_count": 53,
     "metadata": {},
     "output_type": "execute_result"
    }
   ],
   "source": [
    "# Load the datatset\n",
    "companies_df = pd.read_csv('../dataset/cleaned-credit-risk.tar.gz', compression='gzip')\n",
    "\n",
    "for col in [c for c in companies_df.columns if c.startswith('MScore.')]:\n",
    "    companies_df[str(col)+'.int'] = companies_df[str(col)].apply(lambda x: MScore_to_int(x))\n",
    "\n",
    "companies_df"
   ]
  },
  {
   "attachments": {},
   "cell_type": "markdown",
   "metadata": {},
   "source": [
    "### Balancing the companies (use same number for high and low level credit risk)"
   ]
  },
  {
   "cell_type": "code",
   "execution_count": 54,
   "metadata": {},
   "outputs": [],
   "source": [
    "# Fix the unbalanced case\n",
    "high_risk_df = companies_df[companies_df['MScore.2019.int'] == 1]\n",
    "low_risk_df = companies_df[companies_df['MScore.2019.int'] == 0].sample(n=len(high_risk_df), random_state=0)\n",
    "restricted_df = pd.concat([low_risk_df, high_risk_df])\n",
    "restricted_df.sort_index(inplace=True)"
   ]
  },
  {
   "attachments": {},
   "cell_type": "markdown",
   "metadata": {},
   "source": [
    "## Consider 2019 company data to predict 2020 credit risk level"
   ]
  },
  {
   "attachments": {},
   "cell_type": "markdown",
   "metadata": {},
   "source": [
    "### Models\n",
    "\n",
    "#### Easiest model: credit risk score of 2019 to predict the one of 2020"
   ]
  },
  {
   "cell_type": "code",
   "execution_count": 55,
   "metadata": {},
   "outputs": [],
   "source": [
    "X = restricted_df[['MScore.2019.int']]\n",
    "y = restricted_df[['MScore.2020.int']]\n",
    "X_train, X_test, y_train, y_test = train_test_split(X, y, random_state=0, test_size=0.2, shuffle=True)"
   ]
  },
  {
   "attachments": {},
   "cell_type": "markdown",
   "metadata": {},
   "source": [
    "##### Logistic Regression - Decision Tree - Random Forest - Support Vector Classifier"
   ]
  },
  {
   "cell_type": "code",
   "execution_count": 56,
   "metadata": {},
   "outputs": [
    {
     "name": "stdout",
     "output_type": "stream",
     "text": [
      "Logistic Regression\n",
      " - Train accuracy: 77.8%\n",
      " - Test accuracy: 77.7%\n",
      "\n",
      "Test               precision    recall  f1-score   support\n",
      "\n",
      "           0       0.92      0.72      0.81      3167\n",
      "           1       0.63      0.89      0.74      1697\n",
      "\n",
      "    accuracy                           0.78      4864\n",
      "   macro avg       0.78      0.80      0.77      4864\n",
      "weighted avg       0.82      0.78      0.78      4864\n",
      "\n"
     ]
    }
   ],
   "source": [
    "lr = LogisticRegression(solver='liblinear', random_state=0)\n",
    "lr.fit(X_train, np.ravel(y_train))\n",
    "print_performances('Logistic Regression', lr, X_train, y_train, X_test, y_test)"
   ]
  },
  {
   "cell_type": "code",
   "execution_count": 57,
   "metadata": {},
   "outputs": [
    {
     "name": "stdout",
     "output_type": "stream",
     "text": [
      "Decision Tree Classifier\n",
      " - Train accuracy: 77.8%\n",
      " - Test accuracy: 77.7%\n",
      "\n",
      "Test               precision    recall  f1-score   support\n",
      "\n",
      "           0       0.92      0.72      0.81      3167\n",
      "           1       0.63      0.89      0.74      1697\n",
      "\n",
      "    accuracy                           0.78      4864\n",
      "   macro avg       0.78      0.80      0.77      4864\n",
      "weighted avg       0.82      0.78      0.78      4864\n",
      "\n"
     ]
    }
   ],
   "source": [
    "dtc = DecisionTreeClassifier()\n",
    "dtc.fit(X_train, np.ravel(y_train))\n",
    "print_performances('Decision Tree Classifier', dtc, X_train, y_train, X_test, y_test)"
   ]
  },
  {
   "cell_type": "code",
   "execution_count": 58,
   "metadata": {},
   "outputs": [
    {
     "name": "stdout",
     "output_type": "stream",
     "text": [
      "Random Forest Classifier\n",
      " - Train accuracy: 77.8%\n",
      " - Test accuracy: 77.7%\n",
      "\n",
      "Test               precision    recall  f1-score   support\n",
      "\n",
      "           0       0.92      0.72      0.81      3167\n",
      "           1       0.63      0.89      0.74      1697\n",
      "\n",
      "    accuracy                           0.78      4864\n",
      "   macro avg       0.78      0.80      0.77      4864\n",
      "weighted avg       0.82      0.78      0.78      4864\n",
      "\n"
     ]
    }
   ],
   "source": [
    "rfc = RandomForestClassifier(n_estimators = 100)\n",
    "rfc.fit(X_train, np.ravel(y_train))\n",
    "print_performances('Random Forest Classifier', rfc, X_train, y_train, X_test, y_test)"
   ]
  },
  {
   "cell_type": "code",
   "execution_count": 59,
   "metadata": {},
   "outputs": [
    {
     "name": "stdout",
     "output_type": "stream",
     "text": [
      "Support Vector Classifier\n",
      " - Train accuracy: 77.8%\n",
      " - Test accuracy: 77.7%\n",
      "\n",
      "Test               precision    recall  f1-score   support\n",
      "\n",
      "           0       0.92      0.72      0.81      3167\n",
      "           1       0.63      0.89      0.74      1697\n",
      "\n",
      "    accuracy                           0.78      4864\n",
      "   macro avg       0.78      0.80      0.77      4864\n",
      "weighted avg       0.82      0.78      0.78      4864\n",
      "\n"
     ]
    }
   ],
   "source": [
    "svc = SVC(kernel='rbf', random_state=0)\n",
    "svc.fit(X_train, np.ravel(y_train))\n",
    "print_performances('Support Vector Classifier', svc, X_train, y_train, X_test, y_test)"
   ]
  },
  {
   "attachments": {},
   "cell_type": "markdown",
   "metadata": {},
   "source": [
    "The overall obtained performances can be considered good, but what if we add and consider other features?<br>\n",
    "Furthermore, considering different models, really does not make a significant difference (at least in the performance metrics)."
   ]
  },
  {
   "attachments": {},
   "cell_type": "markdown",
   "metadata": {},
   "source": [
    "#### Add another feature: credit risk score + turnover of 2019, to predict credit score of 2020"
   ]
  },
  {
   "cell_type": "code",
   "execution_count": 91,
   "metadata": {},
   "outputs": [],
   "source": [
    "X = restricted_df[['MScore.2019.int', 'Turnover.2019']]\n",
    "y = restricted_df[['MScore.2020.int']]\n",
    "X_train, X_test, y_train, y_test = train_test_split(X, y, random_state=0, test_size=0.2, shuffle=True)"
   ]
  },
  {
   "attachments": {},
   "cell_type": "markdown",
   "metadata": {},
   "source": [
    "##### Logistic Regression"
   ]
  },
  {
   "cell_type": "code",
   "execution_count": 92,
   "metadata": {},
   "outputs": [
    {
     "name": "stdout",
     "output_type": "stream",
     "text": [
      "Logistic Regression\n",
      " - Train accuracy: 77.7%\n",
      " - Test accuracy: 77.7%\n",
      "\n",
      "Test               precision    recall  f1-score   support\n",
      "\n",
      "           0       0.92      0.72      0.81      3167\n",
      "           1       0.63      0.89      0.73      1697\n",
      "\n",
      "    accuracy                           0.78      4864\n",
      "   macro avg       0.77      0.80      0.77      4864\n",
      "weighted avg       0.82      0.78      0.78      4864\n",
      "\n"
     ]
    }
   ],
   "source": [
    "lr = LogisticRegression(solver='liblinear', random_state=0)\n",
    "lr.fit(X_train, np.ravel(y_train))\n",
    "print_performances('Logistic Regression', lr, X_train, y_train, X_test, y_test)"
   ]
  },
  {
   "attachments": {},
   "cell_type": "markdown",
   "metadata": {},
   "source": [
    "It doesn't really makes the difference adding the Turnover in the performance metrics. The same happens using different models."
   ]
  },
  {
   "attachments": {},
   "cell_type": "markdown",
   "metadata": {},
   "source": [
    "#### Add another feature: credit risk score + EBIT of 2019, to predict the one of 2020"
   ]
  },
  {
   "cell_type": "code",
   "execution_count": 103,
   "metadata": {},
   "outputs": [],
   "source": [
    "X = restricted_df[['MScore.2019.int', 'EBIT.2019']]\n",
    "y = restricted_df[['MScore.2020.int']]\n",
    "X_train, X_test, y_train, y_test = train_test_split(X, y, random_state=0, test_size=0.2, shuffle=True)"
   ]
  },
  {
   "attachments": {},
   "cell_type": "markdown",
   "metadata": {},
   "source": [
    "##### Logistic Regression"
   ]
  },
  {
   "cell_type": "code",
   "execution_count": 104,
   "metadata": {},
   "outputs": [
    {
     "name": "stdout",
     "output_type": "stream",
     "text": [
      "Logistic Regression\n",
      " - Train accuracy: 77.6%\n",
      " - Test accuracy: 77.4%\n",
      "\n",
      "Test               precision    recall  f1-score   support\n",
      "\n",
      "           0       0.92      0.72      0.81      3167\n",
      "           1       0.63      0.88      0.73      1697\n",
      "\n",
      "    accuracy                           0.77      4864\n",
      "   macro avg       0.77      0.80      0.77      4864\n",
      "weighted avg       0.82      0.77      0.78      4864\n",
      "\n"
     ]
    }
   ],
   "source": [
    "lr = LogisticRegression(solver='liblinear', random_state=0)\n",
    "lr.fit(X_train, np.ravel(y_train))\n",
    "print_performances('Logistic Regression', lr, X_train, y_train, X_test, y_test)"
   ]
  },
  {
   "attachments": {},
   "cell_type": "markdown",
   "metadata": {},
   "source": [
    "#### Add another feature: credit risk score + PLTax of 2019, to predict the one of 2020"
   ]
  },
  {
   "cell_type": "code",
   "execution_count": 107,
   "metadata": {},
   "outputs": [],
   "source": [
    "X = restricted_df[['MScore.2019.int', 'PLTax.2019']]\n",
    "y = restricted_df[['MScore.2020.int']]\n",
    "X_train, X_test, y_train, y_test = train_test_split(X, y, random_state=0, test_size=0.2, shuffle=True)"
   ]
  },
  {
   "cell_type": "code",
   "execution_count": 108,
   "metadata": {},
   "outputs": [
    {
     "name": "stdout",
     "output_type": "stream",
     "text": [
      "Logistic Regression\n",
      " - Train accuracy: 77.7%\n",
      " - Test accuracy: 77.6%\n",
      "\n",
      "Test               precision    recall  f1-score   support\n",
      "\n",
      "           0       0.92      0.72      0.81      3167\n",
      "           1       0.63      0.88      0.73      1697\n",
      "\n",
      "    accuracy                           0.78      4864\n",
      "   macro avg       0.77      0.80      0.77      4864\n",
      "weighted avg       0.82      0.78      0.78      4864\n",
      "\n"
     ]
    }
   ],
   "source": [
    "lr = LogisticRegression(solver='liblinear', random_state=0)\n",
    "lr.fit(X_train, np.ravel(y_train))\n",
    "print_performances('Logistic Regression', lr, X_train, y_train, X_test, y_test)"
   ]
  },
  {
   "attachments": {},
   "cell_type": "markdown",
   "metadata": {},
   "source": [
    "## Consider also older than 2019 company data to predict 2020 credit risk level"
   ]
  },
  {
   "attachments": {},
   "cell_type": "markdown",
   "metadata": {},
   "source": [
    "### Models\n",
    "\n",
    "#### Easiest model: credit risk score of past years to predict the one of 2020"
   ]
  },
  {
   "cell_type": "code",
   "execution_count": 65,
   "metadata": {},
   "outputs": [],
   "source": [
    "X = restricted_df[['MScore.2015.int', 'MScore.2016.int','MScore.2017.int','MScore.2018.int', 'MScore.2019.int']]\n",
    "y = restricted_df[['MScore.2020.int']]\n",
    "X_train, X_test, y_train, y_test = train_test_split(X, y, random_state=0, test_size=0.2, shuffle=True)"
   ]
  },
  {
   "cell_type": "markdown",
   "metadata": {},
   "source": [
    "##### Logistic Regression - Decision Tree - Random Forest - Support Vector Classifier"
   ]
  },
  {
   "cell_type": "code",
   "execution_count": 66,
   "metadata": {},
   "outputs": [
    {
     "name": "stdout",
     "output_type": "stream",
     "text": [
      "Logistic Regression\n",
      " - Train accuracy: 78.9%\n",
      " - Test accuracy: 79.6%\n",
      "\n",
      "Test               precision    recall  f1-score   support\n",
      "\n",
      "           0       0.86      0.83      0.84      3167\n",
      "           1       0.70      0.74      0.72      1697\n",
      "\n",
      "    accuracy                           0.80      4864\n",
      "   macro avg       0.78      0.78      0.78      4864\n",
      "weighted avg       0.80      0.80      0.80      4864\n",
      "\n"
     ]
    }
   ],
   "source": [
    "lr = LogisticRegression(solver='liblinear', random_state=0)\n",
    "lr.fit(X_train, np.ravel(y_train))\n",
    "print_performances('Logistic Regression', lr, X_train, y_train, X_test, y_test)"
   ]
  },
  {
   "cell_type": "code",
   "execution_count": 67,
   "metadata": {},
   "outputs": [
    {
     "name": "stdout",
     "output_type": "stream",
     "text": [
      "Decision Tree Classifier\n",
      " - Train accuracy: 79.0%\n",
      " - Test accuracy: 79.6%\n",
      "\n",
      "Test               precision    recall  f1-score   support\n",
      "\n",
      "           0       0.84      0.85      0.84      3167\n",
      "           1       0.71      0.70      0.71      1697\n",
      "\n",
      "    accuracy                           0.80      4864\n",
      "   macro avg       0.78      0.77      0.77      4864\n",
      "weighted avg       0.80      0.80      0.80      4864\n",
      "\n"
     ]
    }
   ],
   "source": [
    "dtc = DecisionTreeClassifier()\n",
    "dtc.fit(X_train, np.ravel(y_train))\n",
    "print_performances('Decision Tree Classifier', dtc, X_train, y_train, X_test, y_test)"
   ]
  },
  {
   "cell_type": "code",
   "execution_count": 68,
   "metadata": {},
   "outputs": [
    {
     "name": "stdout",
     "output_type": "stream",
     "text": [
      "Random Forest Classifier\n",
      " - Train accuracy: 79.0%\n",
      " - Test accuracy: 79.6%\n",
      "\n",
      "Test               precision    recall  f1-score   support\n",
      "\n",
      "           0       0.84      0.85      0.84      3167\n",
      "           1       0.71      0.70      0.71      1697\n",
      "\n",
      "    accuracy                           0.80      4864\n",
      "   macro avg       0.78      0.77      0.77      4864\n",
      "weighted avg       0.80      0.80      0.80      4864\n",
      "\n"
     ]
    }
   ],
   "source": [
    "rfc = RandomForestClassifier(n_estimators = 100)\n",
    "rfc.fit(X_train, np.ravel(y_train))\n",
    "print_performances('Random Forest Classifier', rfc, X_train, y_train, X_test, y_test)"
   ]
  },
  {
   "cell_type": "code",
   "execution_count": 69,
   "metadata": {},
   "outputs": [
    {
     "name": "stdout",
     "output_type": "stream",
     "text": [
      "Support Vector Classifier\n",
      " - Train accuracy: 79.0%\n",
      " - Test accuracy: 79.5%\n",
      "\n",
      "Test               precision    recall  f1-score   support\n",
      "\n",
      "           0       0.85      0.84      0.84      3167\n",
      "           1       0.70      0.72      0.71      1697\n",
      "\n",
      "    accuracy                           0.80      4864\n",
      "   macro avg       0.77      0.78      0.78      4864\n",
      "weighted avg       0.80      0.80      0.80      4864\n",
      "\n"
     ]
    }
   ],
   "source": [
    "svc = SVC(kernel='rbf', random_state=0)\n",
    "svc.fit(X_train, np.ravel(y_train))\n",
    "print_performances('Support Vector Classifier', svc, X_train, y_train, X_test, y_test)"
   ]
  }
 ],
 "metadata": {
  "kernelspec": {
   "display_name": "Python 3",
   "language": "python",
   "name": "python3"
  },
  "language_info": {
   "codemirror_mode": {
    "name": "ipython",
    "version": 3
   },
   "file_extension": ".py",
   "mimetype": "text/x-python",
   "name": "python",
   "nbconvert_exporter": "python",
   "pygments_lexer": "ipython3",
   "version": "3.9.2"
  },
  "orig_nbformat": 4,
  "vscode": {
   "interpreter": {
    "hash": "aee8b7b246df8f9039afb4144a1f6fd8d2ca17a180786b69acc140d282b71a49"
   }
  }
 },
 "nbformat": 4,
 "nbformat_minor": 2
}
